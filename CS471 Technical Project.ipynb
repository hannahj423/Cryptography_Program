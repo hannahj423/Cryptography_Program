{
 "cells": [
  {
   "cell_type": "code",
   "execution_count": 2,
   "id": "f2c73f9e",
   "metadata": {},
   "outputs": [],
   "source": [
    "def caesar_shift(arr, shift):\n",
    "    d = {}\n",
    "    idx = shift\n",
    "    for i in range(len(arr)):\n",
    "        if i+shift >= len(arr):\n",
    "            d[arr[idx-shift]] = arr[i]\n",
    "            idx += 1\n",
    "        else:\n",
    "            d[arr[i+shift]] = arr[i]\n",
    "    return d\n",
    "\n",
    "def encode(d, message):\n",
    "    mystery = \"\"\n",
    "    for i in range(len(message)):\n",
    "        mystery += d[message[i]]\n",
    "    return mystery\n",
    "\n",
    "def decode(d, mystery):\n",
    "    message = \"\"\n",
    "    for i in range(len(mystery)):\n",
    "        message += d[mystery[i]]\n",
    "    return message\n",
    "\n",
    "def reverse_keys(d):\n",
    "    reverse = {}\n",
    "    for key, value in d.items():\n",
    "        reverse[value] = key\n",
    "    return reverse"
   ]
  },
  {
   "cell_type": "code",
   "execution_count": 10,
   "id": "aefa749a",
   "metadata": {},
   "outputs": [
    {
     "name": "stdout",
     "output_type": "stream",
     "text": [
      "{'g': 'a', 'h': 'b', 'i': 'c', 'j': 'd', 'k': 'e', 'l': 'f', 'm': 'g', 'n': 'h', 'o': 'i', 'p': 'j', 'q': 'k', 'r': 'l', 's': 'm', 't': 'n', 'u': 'o', 'v': 'p', 'w': 'q', 'x': 'r', 'y': 's', 'z': 't', '_': 'u', 'a': 'v', 'b': 'w', 'c': 'x', 'd': 'y', 'e': 'z', 'f': '_'}\n",
      "cuvguvuqvflom\n",
      "{'a': 'g', 'b': 'h', 'c': 'i', 'd': 'j', 'e': 'k', 'f': 'l', 'g': 'm', 'h': 'n', 'i': 'o', 'j': 'p', 'k': 'q', 'l': 'r', 'm': 's', 'n': 't', 'o': 'u', 'p': 'v', 'q': 'w', 'r': 'x', 's': 'y', 't': 'z', 'u': '_', 'v': 'a', 'w': 'b', 'x': 'c', 'y': 'd', 'z': 'e', '_': 'f'}\n",
      "i_am_a_walrus\n"
     ]
    }
   ],
   "source": [
    "arr = [\"a\", \"b\", \"c\", \"d\", \"e\", \"f\", \"g\", \"h\", \"i\", \"j\", \"k\", \"l\", \"m\", \"n\", \n",
    "     \"o\", \"p\", \"q\", \"r\", \"s\", \"t\", \"u\", \"v\", \"w\", \"x\", \"y\", \"z\", \"_\"]\n",
    "shift = 6\n",
    "d = caesar_shift(arr, shift)\n",
    "print(d)\n",
    "message = \"i_am_a_walrus\"\n",
    "mystery = encode(d, message)\n",
    "print(mystery)\n",
    "reverse = reverse_keys(d)\n",
    "print(reverse)\n",
    "message2 = decode(reverse, mystery)\n",
    "print(message2)"
   ]
  },
  {
   "cell_type": "code",
   "execution_count": null,
   "id": "2e8bc77a",
   "metadata": {},
   "outputs": [],
   "source": []
  }
 ],
 "metadata": {
  "kernelspec": {
   "display_name": "Python 3 (ipykernel)",
   "language": "python",
   "name": "python3"
  },
  "language_info": {
   "codemirror_mode": {
    "name": "ipython",
    "version": 3
   },
   "file_extension": ".py",
   "mimetype": "text/x-python",
   "name": "python",
   "nbconvert_exporter": "python",
   "pygments_lexer": "ipython3",
   "version": "3.11.3"
  }
 },
 "nbformat": 4,
 "nbformat_minor": 5
}
