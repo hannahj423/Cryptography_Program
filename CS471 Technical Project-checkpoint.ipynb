{
 "cells": [
  {
   "cell_type": "code",
   "execution_count": 1,
   "id": "1764688b",
   "metadata": {},
   "outputs": [],
   "source": [
    "def caesar_shift(arr, shift):\n",
    "    d = {}\n",
    "    idx = shift\n",
    "    for i in range(len(arr)):\n",
    "        if i+shift >= len(arr):\n",
    "            d[arr[idx-shift]] = arr[i]\n",
    "            idx += 1\n",
    "        else:\n",
    "            d[arr[i+shift]] = arr[i]\n",
    "    return d\n",
    "\n",
    "def encode(d, message):\n",
    "    mystery = \"\"\n",
    "    for i in range(len(message)):\n",
    "        mystery += d[message[i]]\n",
    "    return mystery\n",
    "\n",
    "def decode(d, mystery):\n",
    "    message = \"\"\n",
    "    for i in range(len(mystery)):\n",
    "        message += d[mystery[i]]\n",
    "    return message\n",
    "\n",
    "def reverse_keys(d):\n",
    "    reverse = {}\n",
    "    for key, value in d.items():\n",
    "        reverse[value] = key\n",
    "    return reverse"
   ]
  },
  {
   "cell_type": "code",
   "execution_count": 4,
   "id": "1c35aa26",
   "metadata": {},
   "outputs": [
    {
     "name": "stdout",
     "output_type": "stream",
     "text": [
      "{'d': 'a', 'e': 'b', 'f': 'c', 'g': 'd', 'h': 'e', 'i': 'f', 'j': 'g', 'k': 'h', 'l': 'i', 'm': 'j', 'n': 'k', 'o': 'l', 'p': 'm', 'q': 'n', 'r': 'o', 's': 'p', 't': 'q', 'u': 'r', 'v': 's', 'w': 't', 'x': 'u', 'y': 'v', 'z': 'w', '_': 'x', 'a': 'y', 'b': 'z', 'c': '_'}\n",
      "fxyjxyxtyiorp\n",
      "{'a': 'd', 'b': 'e', 'c': 'f', 'd': 'g', 'e': 'h', 'f': 'i', 'g': 'j', 'h': 'k', 'i': 'l', 'j': 'm', 'k': 'n', 'l': 'o', 'm': 'p', 'n': 'q', 'o': 'r', 'p': 's', 'q': 't', 'r': 'u', 's': 'v', 't': 'w', 'u': 'x', 'v': 'y', 'w': 'z', 'x': '_', 'y': 'a', 'z': 'b', '_': 'c'}\n",
      "i_am_a_walrus\n"
     ]
    }
   ],
   "source": [
    "arr = [\"a\", \"b\", \"c\", \"d\", \"e\", \"f\", \"g\", \"h\", \"i\", \"j\", \"k\", \"l\", \"m\", \"n\", \n",
    "     \"o\", \"p\", \"q\", \"r\", \"s\", \"t\", \"u\", \"v\", \"w\", \"x\", \"y\", \"z\", \"_\"]\n",
    "shift = 3\n",
    "d = caesar_shift(arr, shift)\n",
    "print(d)\n",
    "message = \"i_am_a_walrus\"\n",
    "mystery = encode(d, message)\n",
    "print(mystery)\n",
    "reverse = reverse_keys(d)\n",
    "print(reverse)\n",
    "message2 = decode(reverse, mystery)\n",
    "print(message2)"
   ]
  },
  {
   "cell_type": "code",
   "execution_count": null,
   "id": "ad955b16",
   "metadata": {},
   "outputs": [],
   "source": []
  }
 ],
 "metadata": {
  "kernelspec": {
   "display_name": "Python 3 (ipykernel)",
   "language": "python",
   "name": "python3"
  },
  "language_info": {
   "codemirror_mode": {
    "name": "ipython",
    "version": 3
   },
   "file_extension": ".py",
   "mimetype": "text/x-python",
   "name": "python",
   "nbconvert_exporter": "python",
   "pygments_lexer": "ipython3",
   "version": "3.11.3"
  }
 },
 "nbformat": 4,
 "nbformat_minor": 5
}
